{
  "nbformat": 4,
  "nbformat_minor": 0,
  "metadata": {
    "colab": {
      "name": "DPhi(2).ipynb",
      "provenance": [],
      "collapsed_sections": [
        "SpZDVOEByYZr",
        "Gcgw9ycczhgt",
        "WIvBoLmn4Sfq",
        "ffX0F0iR1qAt",
        "h_z2nTmw2MVU",
        "bgFr8Lcn2boB"
      ],
      "include_colab_link": true
    },
    "kernelspec": {
      "name": "python3",
      "display_name": "Python 3"
    }
  },
  "cells": [
    {
      "cell_type": "markdown",
      "metadata": {
        "id": "view-in-github",
        "colab_type": "text"
      },
      "source": [
        "<a href=\"https://colab.research.google.com/github/HMMK99/Deep_Learning_Bootcamp/blob/master/DPhi(2).ipynb\" target=\"_parent\"><img src=\"https://colab.research.google.com/assets/colab-badge.svg\" alt=\"Open In Colab\"/></a>"
      ]
    },
    {
      "cell_type": "markdown",
      "metadata": {
        "id": "SpZDVOEByYZr",
        "colab_type": "text"
      },
      "source": [
        "\n",
        "\n",
        "```\n",
        "# This is formatted as code\n",
        "```\n",
        "\n",
        "##**DOWNLOADING** **THE DATA**"
      ]
    },
    {
      "cell_type": "code",
      "metadata": {
        "id": "kWyZNas-vKnT",
        "colab_type": "code",
        "colab": {}
      },
      "source": [
        "from google_drive_downloader import GoogleDriveDownloader as gdd\n",
        "\n",
        "gdd.download_file_from_google_drive(file_id='176E-pLhoxTgWsJ3MeoJQV_GXczIA6g8D',\n",
        "                                    dest_path='/content/animals.zip',\n",
        "                                    unzip=True)"
      ],
      "execution_count": null,
      "outputs": []
    },
    {
      "cell_type": "markdown",
      "metadata": {
        "id": "Gcgw9ycczhgt",
        "colab_type": "text"
      },
      "source": [
        "##**LOADING LIBIRARIES**"
      ]
    },
    {
      "cell_type": "code",
      "metadata": {
        "id": "g-W-fapHzhC8",
        "colab_type": "code",
        "colab": {}
      },
      "source": [
        "import glob\n",
        "import cv2\n",
        "import numpy as np\n",
        "import matplotlib.pyplot as plt\n",
        "class_names = ['elefante_train','farfalla_train', 'mucca_train', 'pecora_train', 'scoiattolo_train']\n",
        "IMG_SIZE = 224\n"
      ],
      "execution_count": null,
      "outputs": []
    },
    {
      "cell_type": "markdown",
      "metadata": {
        "id": "WIvBoLmn4Sfq",
        "colab_type": "text"
      },
      "source": [
        "## **LOADING** **THE** **DATA**"
      ]
    },
    {
      "cell_type": "code",
      "metadata": {
        "id": "50oud_PlSojM",
        "colab_type": "code",
        "colab": {}
      },
      "source": [
        "def get_data_from_folder(path):\n",
        "  data = []\n",
        "  for class_name in class_names: # iterate through classes\n",
        "    try:\n",
        "      files = glob.glob(path+\"/\"+class_name+\"/*\") # get files in each folder(class)\n",
        "      for f in files:\n",
        "        img = cv2.imread(f) #read the image\n",
        "        img = cv2.resize(img,(IMG_SIZE,IMG_SIZE)) #resize the image\n",
        "        data.append([np.array(img),class_names.index(class_name)]) #Append images and corresponding labels to data\n",
        "    except:\n",
        "      pass\n",
        "  np.random.shuffle(data)\n",
        "  return data"
      ],
      "execution_count": null,
      "outputs": []
    },
    {
      "cell_type": "code",
      "metadata": {
        "id": "24J18fazS_is",
        "colab_type": "code",
        "colab": {}
      },
      "source": [
        "training_data = get_data_from_folder('/content/animal_dataset_intermediate/train')"
      ],
      "execution_count": null,
      "outputs": []
    },
    {
      "cell_type": "code",
      "metadata": {
        "id": "NA4MtFgCUIeK",
        "colab_type": "code",
        "colab": {
          "base_uri": "https://localhost:8080/",
          "height": 34
        },
        "outputId": "49466014-f602-4aae-9274-041607a4c7ad"
      },
      "source": [
        "len(training_data)\n"
      ],
      "execution_count": null,
      "outputs": [
        {
          "output_type": "execute_result",
          "data": {
            "text/plain": [
              "6932"
            ]
          },
          "metadata": {
            "tags": []
          },
          "execution_count": 5
        }
      ]
    },
    {
      "cell_type": "code",
      "metadata": {
        "id": "kUKXN1E7TJ2Y",
        "colab_type": "code",
        "colab": {
          "base_uri": "https://localhost:8080/",
          "height": 34
        },
        "outputId": "c97263de-ae9e-4452-a11d-fc9d09b61642"
      },
      "source": [
        "\n",
        "y = []\n",
        "for i in training_data:\n",
        "  y.append(i[1])\n",
        "y = y[:4500]\n"
      ],
      "execution_count": null,
      "outputs": [
        {
          "output_type": "execute_result",
          "data": {
            "text/plain": [
              "[4, 1, 1, 4, 4, 3, 4, 4, 4, 2]"
            ]
          },
          "metadata": {
            "tags": []
          },
          "execution_count": 6
        }
      ]
    },
    {
      "cell_type": "code",
      "metadata": {
        "id": "x5Og7XzsWVLI",
        "colab_type": "code",
        "colab": {}
      },
      "source": [
        "### the colab RAM crushes if i exceed this amount\n",
        "x = []\n",
        "for i in training_data:\n",
        "  x.append(i[0])\n",
        "x = x[:4500]"
      ],
      "execution_count": null,
      "outputs": []
    },
    {
      "cell_type": "code",
      "metadata": {
        "id": "j4R_FhPKVH-H",
        "colab_type": "code",
        "colab": {}
      },
      "source": [
        "#from tensorflow.keras.utils import to_categorical\n",
        "#y = to_categorical(y, 5)"
      ],
      "execution_count": null,
      "outputs": []
    },
    {
      "cell_type": "code",
      "metadata": {
        "id": "lOy9F858WjDv",
        "colab_type": "code",
        "colab": {}
      },
      "source": [
        "import tensorflow as tf\n"
      ],
      "execution_count": null,
      "outputs": []
    },
    {
      "cell_type": "code",
      "metadata": {
        "id": "oUpBUzWqaPI_",
        "colab_type": "code",
        "colab": {}
      },
      "source": [
        "def get_test_data_from_folder(path):\n",
        "  data = []\n",
        "  files = glob.glob(path+\"/*\") # get files in each folder(class)\n",
        "  for f in files:\n",
        "    img = cv2.imread(f) #read the image\n",
        "    img = cv2.resize(img,(IMG_SIZE,IMG_SIZE)) #resize the image\n",
        "    data.append([np.array(img)])\n",
        "  data = np.array(data)\n",
        "  return data"
      ],
      "execution_count": null,
      "outputs": []
    },
    {
      "cell_type": "code",
      "metadata": {
        "id": "DaNSKEWAnnDY",
        "colab_type": "code",
        "colab": {}
      },
      "source": [
        ""
      ],
      "execution_count": null,
      "outputs": []
    },
    {
      "cell_type": "code",
      "metadata": {
        "id": "1nXEmS_gSomX",
        "colab_type": "code",
        "colab": {
          "base_uri": "https://localhost:8080/",
          "height": 34
        },
        "outputId": "0063cacf-5659-4ed5-9827-4f3d3d8d6877"
      },
      "source": [
        "testing_data = get_test_data_from_folder('/content/animal_dataset_intermediate/test')\n",
        "len(testing_data[0][0][0][0])"
      ],
      "execution_count": null,
      "outputs": [
        {
          "output_type": "execute_result",
          "data": {
            "text/plain": [
              "3"
            ]
          },
          "metadata": {
            "tags": []
          },
          "execution_count": 16
        }
      ]
    },
    {
      "cell_type": "code",
      "metadata": {
        "id": "f0RNADjeuhGN",
        "colab_type": "code",
        "colab": {}
      },
      "source": [
        "test = []\n",
        "for i in testing_data:\n",
        "  test.append(i[0])\n",
        "test = np.array(test)"
      ],
      "execution_count": null,
      "outputs": []
    },
    {
      "cell_type": "code",
      "metadata": {
        "id": "muYBiIoCFJoQ",
        "colab_type": "code",
        "colab": {}
      },
      "source": [
        "#from PIL import Image, ImageOps"
      ],
      "execution_count": null,
      "outputs": []
    },
    {
      "cell_type": "code",
      "metadata": {
        "id": "TuzlpsQ0GSId",
        "colab_type": "code",
        "colab": {}
      },
      "source": [
        "#leo = ImageOps.grayscale(Image.open('/content/animal_dataset_intermediate/train/elefante_train/OIP---LeldVL441fx5S66TGgVQAAAA.jpeg'))\n",
        "#leo_arr = np.array(leo)\n",
        "#plt.imshow(leo_arr);\n"
      ],
      "execution_count": null,
      "outputs": []
    },
    {
      "cell_type": "markdown",
      "metadata": {
        "id": "SOhOqRtx4iQ4",
        "colab_type": "text"
      },
      "source": [
        ""
      ]
    },
    {
      "cell_type": "code",
      "metadata": {
        "id": "jM1YXUZLyBur",
        "colab_type": "code",
        "colab": {}
      },
      "source": [
        "from tensorflow.keras.callbacks import EarlyStopping\n",
        "from tensorflow.keras.callbacks import TensorBoard\n",
        "from datetime import datetime\n",
        "from tensorflow.keras import regularizers\n",
        "\n",
        "logdir = \"logs/\" + datetime.now().strftime(\"%Y%m%d-%H%M%S\")\n",
        "tensorboard_callback = TensorBoard(log_dir=logdir)\n",
        "\n",
        "es = EarlyStopping(monitor='val_loss', mode='min', verbose=1, patience=5)"
      ],
      "execution_count": null,
      "outputs": []
    },
    {
      "cell_type": "code",
      "metadata": {
        "id": "wJF_IBfF5FzP",
        "colab_type": "code",
        "colab": {}
      },
      "source": [
        "##### Can't do data augmentation due to Storage limitation\n",
        "#data_augmentation = tf.keras.Sequential(\n",
        " #   [\n",
        "    #    tf.keras.layers.experimental.preprocessing.RandomFlip(\"horizontal\"),\n",
        "   #     tf.keras.layers.experimental.preprocessing.RandomRotation(0.1),\n",
        "  #      tf.keras.layers.experimental.preprocessing.RandomZoom(0.2)\n",
        " #   ]\n",
        "#)"
      ],
      "execution_count": null,
      "outputs": []
    },
    {
      "cell_type": "markdown",
      "metadata": {
        "id": "ffX0F0iR1qAt",
        "colab_type": "text"
      },
      "source": [
        "## **MODEL MULTI-LAYAER**"
      ]
    },
    {
      "cell_type": "code",
      "metadata": {
        "id": "tTYaBSMf1oVw",
        "colab_type": "code",
        "colab": {}
      },
      "source": [
        "model = tf.keras.models.Sequential()\n",
        "model.add(tf.keras.layers.experimental.preprocessing.Rescaling(1./255))\n",
        "model.add(tf.keras.layers.Dense(512,activation='relu'))\n",
        "model.add(tf.keras.layers.Dropout(0.2))\n",
        "model.add(tf.keras.layers.Dense(512,activation='relu'))\n",
        "model.add(tf.keras.layers.Dropout(0.2))\n",
        "\n",
        "model.add(tf.keras.layers.Dense(5,activation='softmax'))\n"
      ],
      "execution_count": null,
      "outputs": []
    },
    {
      "cell_type": "markdown",
      "metadata": {
        "id": "h_z2nTmw2MVU",
        "colab_type": "text"
      },
      "source": [
        "##**OPTIMISER**"
      ]
    },
    {
      "cell_type": "code",
      "metadata": {
        "id": "kZ6u1eVA2Jfl",
        "colab_type": "code",
        "colab": {}
      },
      "source": [
        "model.compile(optimizer='adam', \n",
        "              loss='sparse_categorical_crossentropy', \n",
        "              metrics=['accuracy'])\n"
      ],
      "execution_count": null,
      "outputs": []
    },
    {
      "cell_type": "markdown",
      "metadata": {
        "id": "bgFr8Lcn2boB",
        "colab_type": "text"
      },
      "source": [
        "##**TENSORBOARD & TRAINING**"
      ]
    },
    {
      "cell_type": "code",
      "metadata": {
        "id": "tQSGr1os2gPC",
        "colab_type": "code",
        "colab": {
          "base_uri": "https://localhost:8080/",
          "height": 801
        },
        "outputId": "79ad63c0-f95d-49c5-b974-207180b552d1"
      },
      "source": [
        "path = \"logs\\\\fit\\\\\" + datetime.now().strftime(\"%Y%m%d-%H%M%S\")\n",
        "\n",
        "tensorboard_callback = tf.keras.callbacks.TensorBoard(log_dir=path, histogram_freq=1)\n",
        "history = model.fit(((np.array(x).reshape(4500, 224*224*3))/255), np.array(y),\n",
        "                    batch_size=32, \n",
        "                    validation_split=0.2, epochs=20,\n",
        "                    callbacks = [tensorboard_callback],\n",
        "                    verbose=1)\n"
      ],
      "execution_count": null,
      "outputs": [
        {
          "output_type": "stream",
          "text": [
            "Epoch 1/20\n",
            "  1/113 [..............................] - ETA: 0s - loss: 1.6096 - accuracy: 0.1562WARNING:tensorflow:From /usr/local/lib/python3.6/dist-packages/tensorflow/python/ops/summary_ops_v2.py:1277: stop (from tensorflow.python.eager.profiler) is deprecated and will be removed after 2020-07-01.\n",
            "Instructions for updating:\n",
            "use `tf.profiler.experimental.stop` instead.\n",
            "113/113 [==============================] - 54s 479ms/step - loss: 1.4949 - accuracy: 0.3247 - val_loss: 1.3989 - val_accuracy: 0.4067\n",
            "Epoch 2/20\n",
            "113/113 [==============================] - 53s 466ms/step - loss: 1.3957 - accuracy: 0.3769 - val_loss: 1.3666 - val_accuracy: 0.3867\n",
            "Epoch 3/20\n",
            "113/113 [==============================] - 52s 465ms/step - loss: 1.3194 - accuracy: 0.4378 - val_loss: 1.2736 - val_accuracy: 0.4778\n",
            "Epoch 4/20\n",
            "113/113 [==============================] - 52s 464ms/step - loss: 1.2701 - accuracy: 0.4603 - val_loss: 1.2884 - val_accuracy: 0.4756\n",
            "Epoch 5/20\n",
            "113/113 [==============================] - 53s 467ms/step - loss: 1.2295 - accuracy: 0.4789 - val_loss: 1.2439 - val_accuracy: 0.4656\n",
            "Epoch 6/20\n",
            "113/113 [==============================] - 53s 465ms/step - loss: 1.2162 - accuracy: 0.5003 - val_loss: 1.2332 - val_accuracy: 0.5056\n",
            "Epoch 7/20\n",
            "113/113 [==============================] - 53s 472ms/step - loss: 1.1816 - accuracy: 0.5156 - val_loss: 1.2363 - val_accuracy: 0.5156\n",
            "Epoch 8/20\n",
            "113/113 [==============================] - 53s 465ms/step - loss: 1.2038 - accuracy: 0.4917 - val_loss: 1.2068 - val_accuracy: 0.5022\n",
            "Epoch 9/20\n",
            "113/113 [==============================] - 53s 465ms/step - loss: 1.1568 - accuracy: 0.5158 - val_loss: 1.2136 - val_accuracy: 0.5178\n",
            "Epoch 10/20\n",
            "113/113 [==============================] - 53s 467ms/step - loss: 1.1334 - accuracy: 0.5411 - val_loss: 1.2175 - val_accuracy: 0.5089\n",
            "Epoch 11/20\n",
            "113/113 [==============================] - 53s 466ms/step - loss: 1.1302 - accuracy: 0.5392 - val_loss: 1.2334 - val_accuracy: 0.4967\n",
            "Epoch 12/20\n",
            "113/113 [==============================] - 53s 466ms/step - loss: 1.1016 - accuracy: 0.5494 - val_loss: 1.2326 - val_accuracy: 0.5200\n",
            "Epoch 13/20\n",
            "113/113 [==============================] - 53s 469ms/step - loss: 1.0715 - accuracy: 0.5711 - val_loss: 1.2069 - val_accuracy: 0.5344\n",
            "Epoch 14/20\n",
            "113/113 [==============================] - 53s 467ms/step - loss: 1.0511 - accuracy: 0.5697 - val_loss: 1.1796 - val_accuracy: 0.5211\n",
            "Epoch 15/20\n",
            "113/113 [==============================] - 53s 466ms/step - loss: 1.0455 - accuracy: 0.5822 - val_loss: 1.1948 - val_accuracy: 0.5400\n",
            "Epoch 16/20\n",
            "113/113 [==============================] - 53s 469ms/step - loss: 1.0108 - accuracy: 0.5975 - val_loss: 1.2194 - val_accuracy: 0.5244\n",
            "Epoch 17/20\n",
            "113/113 [==============================] - 53s 465ms/step - loss: 1.0134 - accuracy: 0.5981 - val_loss: 1.2096 - val_accuracy: 0.5300\n",
            "Epoch 18/20\n",
            "113/113 [==============================] - 53s 467ms/step - loss: 1.0158 - accuracy: 0.5944 - val_loss: 1.3094 - val_accuracy: 0.4822\n",
            "Epoch 19/20\n",
            "113/113 [==============================] - 53s 465ms/step - loss: 1.0154 - accuracy: 0.5850 - val_loss: 1.2053 - val_accuracy: 0.5278\n",
            "Epoch 20/20\n",
            "113/113 [==============================] - 52s 460ms/step - loss: 0.9670 - accuracy: 0.6069 - val_loss: 1.2544 - val_accuracy: 0.5011\n"
          ],
          "name": "stdout"
        }
      ]
    },
    {
      "cell_type": "code",
      "metadata": {
        "id": "Hnon2ceBB9DP",
        "colab_type": "code",
        "colab": {}
      },
      "source": [
        ""
      ],
      "execution_count": null,
      "outputs": []
    },
    {
      "cell_type": "code",
      "metadata": {
        "id": "WdTNgXrt3sSk",
        "colab_type": "code",
        "colab": {
          "base_uri": "https://localhost:8080/",
          "height": 34
        },
        "outputId": "d8e5de9d-b6e8-4a09-c4e0-2abe0db0aea7"
      },
      "source": [
        "%tensorboard --logdir logs/fit\n"
      ],
      "execution_count": null,
      "outputs": [
        {
          "output_type": "stream",
          "text": [
            "UsageError: Line magic function `%tensorboard` not found.\n"
          ],
          "name": "stderr"
        }
      ]
    },
    {
      "cell_type": "markdown",
      "metadata": {
        "id": "94VWAlxQ14FV",
        "colab_type": "text"
      },
      "source": [
        "##**MODEL** **CNN**"
      ]
    },
    {
      "cell_type": "code",
      "metadata": {
        "id": "pqsLAqUp4hhf",
        "colab_type": "code",
        "colab": {
          "base_uri": "https://localhost:8080/",
          "height": 798
        },
        "outputId": "5c801961-b85a-4808-deaa-a0697a7fbc56"
      },
      "source": [
        "# define input shape\n",
        "INPUT_SHAPE = (224, 224, 3)\n",
        "\n",
        "# define sequential model\n",
        "model = tf.keras.models.Sequential()\n",
        "# define conv-pool layers - set 1\n",
        "model.add(tf.keras.layers.Conv2D(filters=8, kernel_size=(3, 3), strides=(1, 1), \n",
        "                                activation='relu', padding='valid', input_shape=INPUT_SHAPE))\n",
        "model.add(tf.keras.layers.MaxPooling2D(pool_size=(2, 2)))\n",
        "# define conv-pool layers - set 2\n",
        "model.add(tf.keras.layers.Conv2D(filters=16, kernel_size=(3, 3), strides=(1, 1), \n",
        "                                activation='relu', padding='valid', input_shape=INPUT_SHAPE))\n",
        "model.add(tf.keras.layers.MaxPooling2D(pool_size=(2, 2)))\n",
        "\n",
        "model.add(tf.keras.layers.Conv2D(filters=24, kernel_size=(3, 3), strides=(1, 1), \n",
        "                                activation='relu', padding='valid', input_shape=INPUT_SHAPE))# define conv-pool layers - set 1\n",
        "\n",
        "model.add(tf.keras.layers.MaxPooling2D(pool_size=(2, 2)))\n",
        "model.add(tf.keras.layers.Conv2D(filters=32, kernel_size=(3, 3), strides=(1, 1), \n",
        "                                activation='relu', padding='valid', input_shape=INPUT_SHAPE))# define conv-pool layers - set 2\n",
        "\n",
        "model.add(tf.keras.layers.MaxPooling2D(pool_size=(2, 2)))\n",
        "model.add(tf.keras.layers.Conv2D(filters=48, kernel_size=(3, 3), strides=(1, 1), \n",
        "                                activation='relu', padding='valid', input_shape=INPUT_SHAPE))# define conv-pool layers - set 2\n",
        "\n",
        "model.add(tf.keras.layers.MaxPooling2D(pool_size=(2, 2)))\n",
        "model.add(tf.keras.layers.Flatten())# add flatten layer\n",
        "\n",
        "# add dense layers with some dropout\n",
        "model.add(tf.keras.layers.Dense(512, activation='relu'))\n",
        "model.add(tf.keras.layers.Dropout(rate=0.5))\n",
        "model.add(tf.keras.layers.Dense(256, activation='relu'))\n",
        "model.add(tf.keras.layers.Dropout(rate=0.5))\n",
        "model.add(tf.keras.layers.Dense(128, activation='relu',kernel_regularizer =\"l2\"))\n",
        "model.add(tf.keras.layers.Dropout(rate=0.5))\n",
        "\n",
        "# add output layer\n",
        "model.add(tf.keras.layers.Dense(5, activation='softmax'))\n",
        "\n",
        "# compile model\n",
        "model.compile(optimizer='adam', \n",
        "              loss='sparse_categorical_crossentropy', \n",
        "              metrics=['accuracy'])\n",
        "\n",
        "# view model layers\n",
        "model.summary()\n"
      ],
      "execution_count": null,
      "outputs": [
        {
          "output_type": "stream",
          "text": [
            "Model: \"sequential\"\n",
            "_________________________________________________________________\n",
            "Layer (type)                 Output Shape              Param #   \n",
            "=================================================================\n",
            "conv2d (Conv2D)              (None, 222, 222, 8)       224       \n",
            "_________________________________________________________________\n",
            "max_pooling2d (MaxPooling2D) (None, 111, 111, 8)       0         \n",
            "_________________________________________________________________\n",
            "conv2d_1 (Conv2D)            (None, 109, 109, 16)      1168      \n",
            "_________________________________________________________________\n",
            "max_pooling2d_1 (MaxPooling2 (None, 54, 54, 16)        0         \n",
            "_________________________________________________________________\n",
            "conv2d_2 (Conv2D)            (None, 52, 52, 24)        3480      \n",
            "_________________________________________________________________\n",
            "max_pooling2d_2 (MaxPooling2 (None, 26, 26, 24)        0         \n",
            "_________________________________________________________________\n",
            "conv2d_3 (Conv2D)            (None, 24, 24, 32)        6944      \n",
            "_________________________________________________________________\n",
            "max_pooling2d_3 (MaxPooling2 (None, 12, 12, 32)        0         \n",
            "_________________________________________________________________\n",
            "conv2d_4 (Conv2D)            (None, 10, 10, 48)        13872     \n",
            "_________________________________________________________________\n",
            "max_pooling2d_4 (MaxPooling2 (None, 5, 5, 48)          0         \n",
            "_________________________________________________________________\n",
            "flatten (Flatten)            (None, 1200)              0         \n",
            "_________________________________________________________________\n",
            "dense (Dense)                (None, 512)               614912    \n",
            "_________________________________________________________________\n",
            "dropout (Dropout)            (None, 512)               0         \n",
            "_________________________________________________________________\n",
            "dense_1 (Dense)              (None, 256)               131328    \n",
            "_________________________________________________________________\n",
            "dropout_1 (Dropout)          (None, 256)               0         \n",
            "_________________________________________________________________\n",
            "dense_2 (Dense)              (None, 128)               32896     \n",
            "_________________________________________________________________\n",
            "dropout_2 (Dropout)          (None, 128)               0         \n",
            "_________________________________________________________________\n",
            "dense_3 (Dense)              (None, 5)                 645       \n",
            "=================================================================\n",
            "Total params: 805,469\n",
            "Trainable params: 805,469\n",
            "Non-trainable params: 0\n",
            "_________________________________________________________________\n"
          ],
          "name": "stdout"
        }
      ]
    },
    {
      "cell_type": "markdown",
      "metadata": {
        "id": "7z-LSLvu4hFg",
        "colab_type": "text"
      },
      "source": [
        ""
      ]
    },
    {
      "cell_type": "code",
      "metadata": {
        "id": "MpEjMB8I4gxZ",
        "colab_type": "code",
        "colab": {}
      },
      "source": [
        "EPOCHS = 40\n",
        "x = np.array(x) / 255.\n",
        "y = np.array(y)\n",
        "es_callback = tf.keras.callbacks.EarlyStopping(monitor='val_loss', patience=2,\n",
        "                                               restore_best_weights=True,\n",
        "                                               verbose=1)\n"
      ],
      "execution_count": null,
      "outputs": []
    },
    {
      "cell_type": "code",
      "metadata": {
        "id": "dnHTFa6KJ1tq",
        "colab_type": "code",
        "colab": {}
      },
      "source": [
        "#EPOCHS = 10\n"
      ],
      "execution_count": null,
      "outputs": []
    },
    {
      "cell_type": "code",
      "metadata": {
        "id": "I0AO6iCJdZvJ",
        "colab_type": "code",
        "colab": {
          "base_uri": "https://localhost:8080/",
          "height": 641
        },
        "outputId": "0309ffb9-901f-40e3-9100-0882fbe89ae7"
      },
      "source": [
        "history = model.fit(x, y,\n",
        "                    batch_size=32, \n",
        "                    validation_split=0.2, epochs=EPOCHS,callbacks=[tensorboard_callback, es],\n",
        "                    verbose=1)\n"
      ],
      "execution_count": null,
      "outputs": [
        {
          "output_type": "stream",
          "text": [
            "Epoch 1/40\n",
            "  1/113 [..............................] - ETA: 0s - loss: 3.3271 - accuracy: 0.2188WARNING:tensorflow:From /usr/local/lib/python3.6/dist-packages/tensorflow/python/ops/summary_ops_v2.py:1277: stop (from tensorflow.python.eager.profiler) is deprecated and will be removed after 2020-07-01.\n",
            "Instructions for updating:\n",
            "use `tf.profiler.experimental.stop` instead.\n",
            "113/113 [==============================] - 91s 804ms/step - loss: 2.2227 - accuracy: 0.3450 - val_loss: 1.4340 - val_accuracy: 0.4956\n",
            "Epoch 2/40\n",
            "113/113 [==============================] - 89s 790ms/step - loss: 1.3764 - accuracy: 0.4822 - val_loss: 1.1526 - val_accuracy: 0.5967\n",
            "Epoch 3/40\n",
            "113/113 [==============================] - 90s 793ms/step - loss: 1.1385 - accuracy: 0.5911 - val_loss: 0.9657 - val_accuracy: 0.6300\n",
            "Epoch 4/40\n",
            "113/113 [==============================] - 90s 795ms/step - loss: 1.0083 - accuracy: 0.6375 - val_loss: 0.9489 - val_accuracy: 0.6456\n",
            "Epoch 5/40\n",
            "113/113 [==============================] - 90s 797ms/step - loss: 0.9494 - accuracy: 0.6511 - val_loss: 0.8840 - val_accuracy: 0.6822\n",
            "Epoch 6/40\n",
            "113/113 [==============================] - 91s 806ms/step - loss: 0.8960 - accuracy: 0.6583 - val_loss: 0.9181 - val_accuracy: 0.6589\n",
            "Epoch 7/40\n",
            "113/113 [==============================] - 90s 798ms/step - loss: 0.8414 - accuracy: 0.6947 - val_loss: 0.8260 - val_accuracy: 0.7122\n",
            "Epoch 8/40\n",
            "113/113 [==============================] - 90s 800ms/step - loss: 0.7774 - accuracy: 0.7278 - val_loss: 0.7943 - val_accuracy: 0.7044\n",
            "Epoch 9/40\n",
            "113/113 [==============================] - 91s 802ms/step - loss: 0.7469 - accuracy: 0.7353 - val_loss: 0.8918 - val_accuracy: 0.6922\n",
            "Epoch 10/40\n",
            "113/113 [==============================] - 90s 798ms/step - loss: 0.7200 - accuracy: 0.7475 - val_loss: 0.7635 - val_accuracy: 0.7500\n",
            "Epoch 11/40\n",
            "113/113 [==============================] - 91s 803ms/step - loss: 0.6531 - accuracy: 0.7733 - val_loss: 0.8151 - val_accuracy: 0.7433\n",
            "Epoch 12/40\n",
            "113/113 [==============================] - 91s 808ms/step - loss: 0.5917 - accuracy: 0.8044 - val_loss: 0.7665 - val_accuracy: 0.7556\n",
            "Epoch 13/40\n",
            "113/113 [==============================] - 90s 798ms/step - loss: 0.5769 - accuracy: 0.8056 - val_loss: 0.8400 - val_accuracy: 0.7067\n",
            "Epoch 14/40\n",
            "113/113 [==============================] - 90s 799ms/step - loss: 0.5404 - accuracy: 0.8203 - val_loss: 0.7886 - val_accuracy: 0.7500\n",
            "Epoch 15/40\n",
            "113/113 [==============================] - 90s 797ms/step - loss: 0.4952 - accuracy: 0.8392 - val_loss: 0.7982 - val_accuracy: 0.7522\n",
            "Epoch 00015: early stopping\n"
          ],
          "name": "stdout"
        }
      ]
    },
    {
      "cell_type": "code",
      "metadata": {
        "id": "jdX5zwRBz8nW",
        "colab_type": "code",
        "colab": {
          "base_uri": "https://localhost:8080/",
          "height": 294
        },
        "outputId": "e5cd6c84-2545-4ee0-b919-b94527b10f5e"
      },
      "source": [
        "plt.plot(history.history['accuracy'])\n",
        "plt.plot(history.history['val_accuracy'])\n",
        "plt.title('Model Accuracy')\n",
        "plt.ylabel('accuracy')\n",
        "plt.xlabel('epoch')\n",
        "plt.legend(['Train', 'Validation'])\n",
        "plt.show()"
      ],
      "execution_count": null,
      "outputs": [
        {
          "output_type": "display_data",
          "data": {
            "image/png": "[encoded data removed]",
            "text/plain": [
              "<Figure size 432x288 with 1 Axes>"
            ]
          },
          "metadata": {
            "tags": [],
            "needs_background": "light"
          }
        }
      ]
    },
    {
      "cell_type": "code",
      "metadata": {
        "id": "M0itlC3g2YVX",
        "colab_type": "code",
        "colab": {}
      },
      "source": [
        "x = 0"
      ],
      "execution_count": null,
      "outputs": []
    },
    {
      "cell_type": "code",
      "metadata": {
        "id": "s28Lna9lstRg",
        "colab_type": "code",
        "colab": {}
      },
      "source": [
        "#target = model.predict(test.reshape(910, 224*224*3))\n",
        "target = model.predict(test)\n"
      ],
      "execution_count": null,
      "outputs": []
    },
    {
      "cell_type": "code",
      "metadata": {
        "id": "PNwIQzQau7uA",
        "colab_type": "code",
        "colab": {}
      },
      "source": [
        "targ = np.argmax(target, axis = 1).tolist()"
      ],
      "execution_count": null,
      "outputs": []
    },
    {
      "cell_type": "code",
      "metadata": {
        "id": "xsTkwT6cv_qe",
        "colab_type": "code",
        "colab": {}
      },
      "source": [
        "z = 0\n",
        "for i in targ:\n",
        "  if i == 0:\n",
        "    targ[z] = 'elefante'\n",
        "  if i == 1:\n",
        "    targ[z] = 'farfalla'\n",
        "  if i == 2:\n",
        "    targ[z] = 'mucca'\n",
        "  if i == 3:\n",
        "    targ[z] = 'pecora'\n",
        "  if i == 4:\n",
        "    targ[z] = 'scoiattolo'\n",
        "  z = z + 1"
      ],
      "execution_count": null,
      "outputs": []
    },
    {
      "cell_type": "code",
      "metadata": {
        "id": "tbcdBaAIvPE7",
        "colab_type": "code",
        "colab": {}
      },
      "source": [
        "import pandas as pd"
      ],
      "execution_count": null,
      "outputs": []
    },
    {
      "cell_type": "code",
      "metadata": {
        "id": "YFKXg-bru_Ix",
        "colab_type": "code",
        "colab": {
          "base_uri": "https://localhost:8080/",
          "height": 16
        },
        "outputId": "4c881dea-820d-462b-94fa-79fff4c0f09a"
      },
      "source": [
        "# To create Dataframe of predicted value with particular respective index\n",
        "res = pd.DataFrame(targ) #preditcions are nothing but the final predictions of your model on input features of your new unseen test data\n",
        "#res.index = test.shape[0] # its important for comparison. Here \"test_new\" is your new test dataset\n",
        "res.columns = [\"prediction\"]\n",
        "\n",
        "# To download the csv file locally\n",
        "from google.colab import files\n",
        "res.to_csv('dphi2results.csv')         \n",
        "files.download('dphi2results.csv')\n",
        "\n"
      ],
      "execution_count": null,
      "outputs": [
        {
          "output_type": "display_data",
          "data": {
            "application/javascript": [
              "\n",
              "    async function download(id, filename, size) {\n",
              "      if (!google.colab.kernel.accessAllowed) {\n",
              "        return;\n",
              "      }\n",
              "      const div = document.createElement('div');\n",
              "      const label = document.createElement('label');\n",
              "      label.textContent = `Downloading \"${filename}\": `;\n",
              "      div.appendChild(label);\n",
              "      const progress = document.createElement('progress');\n",
              "      progress.max = size;\n",
              "      div.appendChild(progress);\n",
              "      document.body.appendChild(div);\n",
              "\n",
              "      const buffers = [];\n",
              "      let downloaded = 0;\n",
              "\n",
              "      const channel = await google.colab.kernel.comms.open(id);\n",
              "      // Send a message to notify the kernel that we're ready.\n",
              "      channel.send({})\n",
              "\n",
              "      for await (const message of channel.messages) {\n",
              "        // Send a message to notify the kernel that we're ready.\n",
              "        channel.send({})\n",
              "        if (message.buffers) {\n",
              "          for (const buffer of message.buffers) {\n",
              "            buffers.push(buffer);\n",
              "            downloaded += buffer.byteLength;\n",
              "            progress.value = downloaded;\n",
              "          }\n",
              "        }\n",
              "      }\n",
              "      const blob = new Blob(buffers, {type: 'application/binary'});\n",
              "      const a = document.createElement('a');\n",
              "      a.href = window.URL.createObjectURL(blob);\n",
              "      a.download = filename;\n",
              "      div.appendChild(a);\n",
              "      a.click();\n",
              "      div.remove();\n",
              "    }\n",
              "  "
            ],
            "text/plain": [
              "<IPython.core.display.Javascript object>"
            ]
          },
          "metadata": {
            "tags": []
          }
        },
        {
          "output_type": "display_data",
          "data": {
            "application/javascript": [
              "download(\"download_8374b807-d9fa-4853-bfff-a31e35759a68\", \"dphi2results.csv\", 11511)"
            ],
            "text/plain": [
              "<IPython.core.display.Javascript object>"
            ]
          },
          "metadata": {
            "tags": []
          }
        }
      ]
    },
    {
      "cell_type": "code",
      "metadata": {
        "id": "MVGmpr_W3S7d",
        "colab_type": "code",
        "colab": {}
      },
      "source": [
        ""
      ],
      "execution_count": null,
      "outputs": []
    }
  ]
}