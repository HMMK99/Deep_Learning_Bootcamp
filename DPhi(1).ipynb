{
  "nbformat": 4,
  "nbformat_minor": 0,
  "metadata": {
    "colab": {
      "name": "DPhi(1).ipynb",
      "provenance": [],
      "collapsed_sections": [],
      "authorship_tag": "ABX9TyN/cG3VEiirbDRP3/EsAyb9",
      "include_colab_link": true
    },
    "kernelspec": {
      "name": "python3",
      "display_name": "Python 3"
    }
  },
  "cells": [
    {
      "cell_type": "markdown",
      "metadata": {
        "id": "view-in-github",
        "colab_type": "text"
      },
      "source": [
        "<a href=\"https://colab.research.google.com/github/HMMK99/Deep_Learning_Bootcamp/blob/master/DPhi(1).ipynb\" target=\"_parent\"><img src=\"https://colab.research.google.com/assets/colab-badge.svg\" alt=\"Open In Colab\"/></a>"
      ]
    },
    {
      "cell_type": "markdown",
      "metadata": {
        "id": "qI6H3LD9n18-",
        "colab_type": "text"
      },
      "source": [
        "loading liberaries\n"
      ]
    },
    {
      "cell_type": "code",
      "metadata": {
        "id": "tik9qLXKnws2",
        "colab_type": "code",
        "colab": {}
      },
      "source": [
        "import numpy as np\n",
        "import pandas as pd\n",
        "import matplotlib.pyplot as plt"
      ],
      "execution_count": null,
      "outputs": []
    },
    {
      "cell_type": "markdown",
      "metadata": {
        "id": "24mr7RaLn0yo",
        "colab_type": "text"
      },
      "source": [
        "loading the dataset\n"
      ]
    },
    {
      "cell_type": "code",
      "metadata": {
        "id": "W3uDyQ5Mnydf",
        "colab_type": "code",
        "colab": {
          "base_uri": "https://localhost:8080/",
          "height": 52
        },
        "outputId": "6e682824-205e-48cf-ccf8-056f6ebdbdf0"
      },
      "source": [
        "from tensorflow.keras.datasets.cifar10 import load_data\n",
        "(x_train, y_train), (_, __) = load_data()"
      ],
      "execution_count": null,
      "outputs": [
        {
          "output_type": "stream",
          "text": [
            "Downloading data from https://www.cs.toronto.edu/~kriz/cifar-10-python.tar.gz\n",
            "170500096/170498071 [==============================] - 11s 0us/step\n"
          ],
          "name": "stdout"
        }
      ]
    },
    {
      "cell_type": "markdown",
      "metadata": {
        "id": "XPgRiOOUpSup",
        "colab_type": "text"
      },
      "source": [
        "loading the test data\n"
      ]
    },
    {
      "cell_type": "code",
      "metadata": {
        "id": "WDsb4LTlpTsw",
        "colab_type": "code",
        "colab": {}
      },
      "source": [
        "test_data = pd.read_csv(\"https://raw.githubusercontent.com/dphi-official/Datasets/master/cifar_image_flattened_pixels.csv\")"
      ],
      "execution_count": null,
      "outputs": []
    },
    {
      "cell_type": "code",
      "metadata": {
        "id": "rnfKBz0NqGCl",
        "colab_type": "code",
        "colab": {
          "base_uri": "https://localhost:8080/",
          "height": 253
        },
        "outputId": "00b1b3b8-9130-4aa2-f3f8-dadc2f91e21e"
      },
      "source": [
        "test_data.head()"
      ],
      "execution_count": null,
      "outputs": [
        {
          "output_type": "execute_result",
          "data": {
            "text/html": [
              "<div>\n",
              "<style scoped>\n",
              "    .dataframe tbody tr th:only-of-type {\n",
              "        vertical-align: middle;\n",
              "    }\n",
              "\n",
              "    .dataframe tbody tr th {\n",
              "        vertical-align: top;\n",
              "    }\n",
              "\n",
              "    .dataframe thead th {\n",
              "        text-align: right;\n",
              "    }\n",
              "</style>\n",
              "<table border=\"1\" class=\"dataframe\">\n",
              "  <thead>\n",
              "    <tr style=\"text-align: right;\">\n",
              "      <th></th>\n",
              "      <th>0</th>\n",
              "      <th>1</th>\n",
              "      <th>2</th>\n",
              "      <th>3</th>\n",
              "      <th>4</th>\n",
              "      <th>5</th>\n",
              "      <th>6</th>\n",
              "      <th>7</th>\n",
              "      <th>8</th>\n",
              "      <th>9</th>\n",
              "      <th>10</th>\n",
              "      <th>11</th>\n",
              "      <th>12</th>\n",
              "      <th>13</th>\n",
              "      <th>14</th>\n",
              "      <th>15</th>\n",
              "      <th>16</th>\n",
              "      <th>17</th>\n",
              "      <th>18</th>\n",
              "      <th>19</th>\n",
              "      <th>20</th>\n",
              "      <th>21</th>\n",
              "      <th>22</th>\n",
              "      <th>23</th>\n",
              "      <th>24</th>\n",
              "      <th>25</th>\n",
              "      <th>26</th>\n",
              "      <th>27</th>\n",
              "      <th>28</th>\n",
              "      <th>29</th>\n",
              "      <th>30</th>\n",
              "      <th>31</th>\n",
              "      <th>32</th>\n",
              "      <th>33</th>\n",
              "      <th>34</th>\n",
              "      <th>35</th>\n",
              "      <th>36</th>\n",
              "      <th>37</th>\n",
              "      <th>38</th>\n",
              "      <th>39</th>\n",
              "      <th>...</th>\n",
              "      <th>3032</th>\n",
              "      <th>3033</th>\n",
              "      <th>3034</th>\n",
              "      <th>3035</th>\n",
              "      <th>3036</th>\n",
              "      <th>3037</th>\n",
              "      <th>3038</th>\n",
              "      <th>3039</th>\n",
              "      <th>3040</th>\n",
              "      <th>3041</th>\n",
              "      <th>3042</th>\n",
              "      <th>3043</th>\n",
              "      <th>3044</th>\n",
              "      <th>3045</th>\n",
              "      <th>3046</th>\n",
              "      <th>3047</th>\n",
              "      <th>3048</th>\n",
              "      <th>3049</th>\n",
              "      <th>3050</th>\n",
              "      <th>3051</th>\n",
              "      <th>3052</th>\n",
              "      <th>3053</th>\n",
              "      <th>3054</th>\n",
              "      <th>3055</th>\n",
              "      <th>3056</th>\n",
              "      <th>3057</th>\n",
              "      <th>3058</th>\n",
              "      <th>3059</th>\n",
              "      <th>3060</th>\n",
              "      <th>3061</th>\n",
              "      <th>3062</th>\n",
              "      <th>3063</th>\n",
              "      <th>3064</th>\n",
              "      <th>3065</th>\n",
              "      <th>3066</th>\n",
              "      <th>3067</th>\n",
              "      <th>3068</th>\n",
              "      <th>3069</th>\n",
              "      <th>3070</th>\n",
              "      <th>3071</th>\n",
              "    </tr>\n",
              "  </thead>\n",
              "  <tbody>\n",
              "    <tr>\n",
              "      <th>0</th>\n",
              "      <td>98</td>\n",
              "      <td>105</td>\n",
              "      <td>108</td>\n",
              "      <td>92</td>\n",
              "      <td>101</td>\n",
              "      <td>106</td>\n",
              "      <td>91</td>\n",
              "      <td>101</td>\n",
              "      <td>107</td>\n",
              "      <td>93</td>\n",
              "      <td>104</td>\n",
              "      <td>108</td>\n",
              "      <td>89</td>\n",
              "      <td>100</td>\n",
              "      <td>104</td>\n",
              "      <td>88</td>\n",
              "      <td>99</td>\n",
              "      <td>103</td>\n",
              "      <td>90</td>\n",
              "      <td>101</td>\n",
              "      <td>106</td>\n",
              "      <td>95</td>\n",
              "      <td>105</td>\n",
              "      <td>110</td>\n",
              "      <td>99</td>\n",
              "      <td>108</td>\n",
              "      <td>110</td>\n",
              "      <td>109</td>\n",
              "      <td>117</td>\n",
              "      <td>116</td>\n",
              "      <td>119</td>\n",
              "      <td>125</td>\n",
              "      <td>123</td>\n",
              "      <td>125</td>\n",
              "      <td>130</td>\n",
              "      <td>128</td>\n",
              "      <td>134</td>\n",
              "      <td>140</td>\n",
              "      <td>138</td>\n",
              "      <td>140</td>\n",
              "      <td>...</td>\n",
              "      <td>184</td>\n",
              "      <td>178</td>\n",
              "      <td>177</td>\n",
              "      <td>172</td>\n",
              "      <td>190</td>\n",
              "      <td>188</td>\n",
              "      <td>184</td>\n",
              "      <td>220</td>\n",
              "      <td>219</td>\n",
              "      <td>214</td>\n",
              "      <td>195</td>\n",
              "      <td>193</td>\n",
              "      <td>187</td>\n",
              "      <td>176</td>\n",
              "      <td>174</td>\n",
              "      <td>169</td>\n",
              "      <td>175</td>\n",
              "      <td>173</td>\n",
              "      <td>168</td>\n",
              "      <td>192</td>\n",
              "      <td>189</td>\n",
              "      <td>185</td>\n",
              "      <td>185</td>\n",
              "      <td>182</td>\n",
              "      <td>178</td>\n",
              "      <td>168</td>\n",
              "      <td>165</td>\n",
              "      <td>161</td>\n",
              "      <td>178</td>\n",
              "      <td>176</td>\n",
              "      <td>171</td>\n",
              "      <td>183</td>\n",
              "      <td>182</td>\n",
              "      <td>176</td>\n",
              "      <td>175</td>\n",
              "      <td>175</td>\n",
              "      <td>168</td>\n",
              "      <td>181</td>\n",
              "      <td>181</td>\n",
              "      <td>175</td>\n",
              "    </tr>\n",
              "    <tr>\n",
              "      <th>1</th>\n",
              "      <td>101</td>\n",
              "      <td>108</td>\n",
              "      <td>101</td>\n",
              "      <td>101</td>\n",
              "      <td>108</td>\n",
              "      <td>101</td>\n",
              "      <td>102</td>\n",
              "      <td>109</td>\n",
              "      <td>102</td>\n",
              "      <td>103</td>\n",
              "      <td>110</td>\n",
              "      <td>103</td>\n",
              "      <td>105</td>\n",
              "      <td>112</td>\n",
              "      <td>104</td>\n",
              "      <td>105</td>\n",
              "      <td>114</td>\n",
              "      <td>109</td>\n",
              "      <td>105</td>\n",
              "      <td>116</td>\n",
              "      <td>112</td>\n",
              "      <td>106</td>\n",
              "      <td>115</td>\n",
              "      <td>110</td>\n",
              "      <td>108</td>\n",
              "      <td>115</td>\n",
              "      <td>108</td>\n",
              "      <td>107</td>\n",
              "      <td>115</td>\n",
              "      <td>107</td>\n",
              "      <td>104</td>\n",
              "      <td>115</td>\n",
              "      <td>106</td>\n",
              "      <td>104</td>\n",
              "      <td>116</td>\n",
              "      <td>108</td>\n",
              "      <td>108</td>\n",
              "      <td>119</td>\n",
              "      <td>115</td>\n",
              "      <td>108</td>\n",
              "      <td>...</td>\n",
              "      <td>149</td>\n",
              "      <td>153</td>\n",
              "      <td>159</td>\n",
              "      <td>164</td>\n",
              "      <td>132</td>\n",
              "      <td>140</td>\n",
              "      <td>142</td>\n",
              "      <td>134</td>\n",
              "      <td>144</td>\n",
              "      <td>145</td>\n",
              "      <td>112</td>\n",
              "      <td>119</td>\n",
              "      <td>118</td>\n",
              "      <td>108</td>\n",
              "      <td>115</td>\n",
              "      <td>111</td>\n",
              "      <td>114</td>\n",
              "      <td>124</td>\n",
              "      <td>122</td>\n",
              "      <td>106</td>\n",
              "      <td>118</td>\n",
              "      <td>116</td>\n",
              "      <td>101</td>\n",
              "      <td>113</td>\n",
              "      <td>108</td>\n",
              "      <td>100</td>\n",
              "      <td>111</td>\n",
              "      <td>102</td>\n",
              "      <td>99</td>\n",
              "      <td>110</td>\n",
              "      <td>103</td>\n",
              "      <td>100</td>\n",
              "      <td>109</td>\n",
              "      <td>104</td>\n",
              "      <td>100</td>\n",
              "      <td>109</td>\n",
              "      <td>103</td>\n",
              "      <td>100</td>\n",
              "      <td>109</td>\n",
              "      <td>102</td>\n",
              "    </tr>\n",
              "    <tr>\n",
              "      <th>2</th>\n",
              "      <td>85</td>\n",
              "      <td>115</td>\n",
              "      <td>27</td>\n",
              "      <td>63</td>\n",
              "      <td>90</td>\n",
              "      <td>25</td>\n",
              "      <td>37</td>\n",
              "      <td>66</td>\n",
              "      <td>15</td>\n",
              "      <td>69</td>\n",
              "      <td>93</td>\n",
              "      <td>49</td>\n",
              "      <td>40</td>\n",
              "      <td>52</td>\n",
              "      <td>36</td>\n",
              "      <td>18</td>\n",
              "      <td>24</td>\n",
              "      <td>18</td>\n",
              "      <td>31</td>\n",
              "      <td>38</td>\n",
              "      <td>27</td>\n",
              "      <td>79</td>\n",
              "      <td>91</td>\n",
              "      <td>61</td>\n",
              "      <td>104</td>\n",
              "      <td>117</td>\n",
              "      <td>78</td>\n",
              "      <td>72</td>\n",
              "      <td>84</td>\n",
              "      <td>52</td>\n",
              "      <td>68</td>\n",
              "      <td>79</td>\n",
              "      <td>52</td>\n",
              "      <td>122</td>\n",
              "      <td>131</td>\n",
              "      <td>85</td>\n",
              "      <td>104</td>\n",
              "      <td>113</td>\n",
              "      <td>67</td>\n",
              "      <td>77</td>\n",
              "      <td>...</td>\n",
              "      <td>139</td>\n",
              "      <td>174</td>\n",
              "      <td>188</td>\n",
              "      <td>139</td>\n",
              "      <td>182</td>\n",
              "      <td>198</td>\n",
              "      <td>150</td>\n",
              "      <td>179</td>\n",
              "      <td>194</td>\n",
              "      <td>147</td>\n",
              "      <td>175</td>\n",
              "      <td>186</td>\n",
              "      <td>142</td>\n",
              "      <td>187</td>\n",
              "      <td>195</td>\n",
              "      <td>158</td>\n",
              "      <td>176</td>\n",
              "      <td>191</td>\n",
              "      <td>142</td>\n",
              "      <td>169</td>\n",
              "      <td>190</td>\n",
              "      <td>132</td>\n",
              "      <td>177</td>\n",
              "      <td>193</td>\n",
              "      <td>144</td>\n",
              "      <td>180</td>\n",
              "      <td>189</td>\n",
              "      <td>147</td>\n",
              "      <td>175</td>\n",
              "      <td>190</td>\n",
              "      <td>141</td>\n",
              "      <td>172</td>\n",
              "      <td>193</td>\n",
              "      <td>136</td>\n",
              "      <td>173</td>\n",
              "      <td>192</td>\n",
              "      <td>138</td>\n",
              "      <td>179</td>\n",
              "      <td>192</td>\n",
              "      <td>149</td>\n",
              "    </tr>\n",
              "    <tr>\n",
              "      <th>3</th>\n",
              "      <td>213</td>\n",
              "      <td>213</td>\n",
              "      <td>214</td>\n",
              "      <td>215</td>\n",
              "      <td>214</td>\n",
              "      <td>218</td>\n",
              "      <td>220</td>\n",
              "      <td>218</td>\n",
              "      <td>226</td>\n",
              "      <td>223</td>\n",
              "      <td>221</td>\n",
              "      <td>233</td>\n",
              "      <td>226</td>\n",
              "      <td>225</td>\n",
              "      <td>231</td>\n",
              "      <td>225</td>\n",
              "      <td>226</td>\n",
              "      <td>223</td>\n",
              "      <td>223</td>\n",
              "      <td>223</td>\n",
              "      <td>223</td>\n",
              "      <td>227</td>\n",
              "      <td>226</td>\n",
              "      <td>231</td>\n",
              "      <td>229</td>\n",
              "      <td>228</td>\n",
              "      <td>236</td>\n",
              "      <td>229</td>\n",
              "      <td>228</td>\n",
              "      <td>236</td>\n",
              "      <td>230</td>\n",
              "      <td>229</td>\n",
              "      <td>236</td>\n",
              "      <td>228</td>\n",
              "      <td>227</td>\n",
              "      <td>235</td>\n",
              "      <td>227</td>\n",
              "      <td>226</td>\n",
              "      <td>234</td>\n",
              "      <td>225</td>\n",
              "      <td>...</td>\n",
              "      <td>20</td>\n",
              "      <td>111</td>\n",
              "      <td>41</td>\n",
              "      <td>28</td>\n",
              "      <td>111</td>\n",
              "      <td>63</td>\n",
              "      <td>60</td>\n",
              "      <td>120</td>\n",
              "      <td>92</td>\n",
              "      <td>98</td>\n",
              "      <td>138</td>\n",
              "      <td>117</td>\n",
              "      <td>129</td>\n",
              "      <td>153</td>\n",
              "      <td>140</td>\n",
              "      <td>158</td>\n",
              "      <td>172</td>\n",
              "      <td>161</td>\n",
              "      <td>187</td>\n",
              "      <td>188</td>\n",
              "      <td>174</td>\n",
              "      <td>205</td>\n",
              "      <td>195</td>\n",
              "      <td>182</td>\n",
              "      <td>212</td>\n",
              "      <td>199</td>\n",
              "      <td>185</td>\n",
              "      <td>216</td>\n",
              "      <td>197</td>\n",
              "      <td>186</td>\n",
              "      <td>216</td>\n",
              "      <td>193</td>\n",
              "      <td>194</td>\n",
              "      <td>209</td>\n",
              "      <td>201</td>\n",
              "      <td>204</td>\n",
              "      <td>216</td>\n",
              "      <td>203</td>\n",
              "      <td>201</td>\n",
              "      <td>237</td>\n",
              "    </tr>\n",
              "    <tr>\n",
              "      <th>4</th>\n",
              "      <td>41</td>\n",
              "      <td>74</td>\n",
              "      <td>144</td>\n",
              "      <td>41</td>\n",
              "      <td>75</td>\n",
              "      <td>139</td>\n",
              "      <td>41</td>\n",
              "      <td>75</td>\n",
              "      <td>139</td>\n",
              "      <td>41</td>\n",
              "      <td>74</td>\n",
              "      <td>144</td>\n",
              "      <td>39</td>\n",
              "      <td>76</td>\n",
              "      <td>140</td>\n",
              "      <td>37</td>\n",
              "      <td>79</td>\n",
              "      <td>130</td>\n",
              "      <td>38</td>\n",
              "      <td>77</td>\n",
              "      <td>135</td>\n",
              "      <td>40</td>\n",
              "      <td>75</td>\n",
              "      <td>142</td>\n",
              "      <td>43</td>\n",
              "      <td>72</td>\n",
              "      <td>145</td>\n",
              "      <td>47</td>\n",
              "      <td>71</td>\n",
              "      <td>146</td>\n",
              "      <td>47</td>\n",
              "      <td>73</td>\n",
              "      <td>140</td>\n",
              "      <td>43</td>\n",
              "      <td>75</td>\n",
              "      <td>140</td>\n",
              "      <td>39</td>\n",
              "      <td>77</td>\n",
              "      <td>143</td>\n",
              "      <td>37</td>\n",
              "      <td>...</td>\n",
              "      <td>149</td>\n",
              "      <td>42</td>\n",
              "      <td>71</td>\n",
              "      <td>135</td>\n",
              "      <td>43</td>\n",
              "      <td>72</td>\n",
              "      <td>125</td>\n",
              "      <td>42</td>\n",
              "      <td>72</td>\n",
              "      <td>122</td>\n",
              "      <td>51</td>\n",
              "      <td>72</td>\n",
              "      <td>117</td>\n",
              "      <td>64</td>\n",
              "      <td>70</td>\n",
              "      <td>109</td>\n",
              "      <td>65</td>\n",
              "      <td>72</td>\n",
              "      <td>99</td>\n",
              "      <td>53</td>\n",
              "      <td>76</td>\n",
              "      <td>113</td>\n",
              "      <td>35</td>\n",
              "      <td>75</td>\n",
              "      <td>136</td>\n",
              "      <td>30</td>\n",
              "      <td>81</td>\n",
              "      <td>140</td>\n",
              "      <td>34</td>\n",
              "      <td>79</td>\n",
              "      <td>133</td>\n",
              "      <td>41</td>\n",
              "      <td>77</td>\n",
              "      <td>130</td>\n",
              "      <td>44</td>\n",
              "      <td>75</td>\n",
              "      <td>133</td>\n",
              "      <td>42</td>\n",
              "      <td>73</td>\n",
              "      <td>144</td>\n",
              "    </tr>\n",
              "  </tbody>\n",
              "</table>\n",
              "<p>5 rows × 3072 columns</p>\n",
              "</div>"
            ],
            "text/plain": [
              "     0    1    2    3    4    5    6  ...  3065  3066  3067  3068  3069  3070  3071\n",
              "0   98  105  108   92  101  106   91  ...   176   175   175   168   181   181   175\n",
              "1  101  108  101  101  108  101  102  ...   104   100   109   103   100   109   102\n",
              "2   85  115   27   63   90   25   37  ...   136   173   192   138   179   192   149\n",
              "3  213  213  214  215  214  218  220  ...   209   201   204   216   203   201   237\n",
              "4   41   74  144   41   75  139   41  ...   130    44    75   133    42    73   144\n",
              "\n",
              "[5 rows x 3072 columns]"
            ]
          },
          "metadata": {
            "tags": []
          },
          "execution_count": 80
        }
      ]
    },
    {
      "cell_type": "markdown",
      "metadata": {
        "id": "hUJers1fv4AT",
        "colab_type": "text"
      },
      "source": [
        "deviding the train_set to train & validation"
      ]
    },
    {
      "cell_type": "code",
      "metadata": {
        "id": "R3L4akBj3TV4",
        "colab_type": "code",
        "colab": {
          "base_uri": "https://localhost:8080/",
          "height": 292
        },
        "outputId": "cd51cac6-ecfc-4c6b-8d0e-973c622d2cc9"
      },
      "source": [
        "plt.matshow(x_train[100])\n",
        "print(y_train[100])\n"
      ],
      "execution_count": null,
      "outputs": [
        {
          "output_type": "stream",
          "text": [
            "[8]\n"
          ],
          "name": "stdout"
        },
        {
          "output_type": "display_data",
          "data": {
            "image/png": "[encoded data removed]",
            "text/plain": [
              "<Figure size 288x288 with 1 Axes>"
            ]
          },
          "metadata": {
            "tags": [],
            "needs_background": "light"
          }
        }
      ]
    },
    {
      "cell_type": "markdown",
      "metadata": {
        "id": "eEzNQgBB4BLV",
        "colab_type": "text"
      },
      "source": [
        "preprocessing "
      ]
    },
    {
      "cell_type": "code",
      "metadata": {
        "id": "nttkM-NJqSek",
        "colab_type": "code",
        "colab": {}
      },
      "source": [
        "x_train = x_train / 255\n"
      ],
      "execution_count": null,
      "outputs": []
    },
    {
      "cell_type": "code",
      "metadata": {
        "id": "TOOvG1cl4Wv7",
        "colab_type": "code",
        "colab": {
          "base_uri": "https://localhost:8080/",
          "height": 34
        },
        "outputId": "63e1ddf6-974e-4653-a328-1df07b784c94"
      },
      "source": [
        "x_train.shape"
      ],
      "execution_count": null,
      "outputs": [
        {
          "output_type": "execute_result",
          "data": {
            "text/plain": [
              "(50000, 32, 32, 3)"
            ]
          },
          "metadata": {
            "tags": []
          },
          "execution_count": 5
        }
      ]
    },
    {
      "cell_type": "code",
      "metadata": {
        "id": "qQMS2c4fwzVj",
        "colab_type": "code",
        "colab": {}
      },
      "source": [
        "x_trainre = x_train.reshape(50000, 3072)\n"
      ],
      "execution_count": null,
      "outputs": []
    },
    {
      "cell_type": "code",
      "metadata": {
        "id": "PW61fax-lgy4",
        "colab_type": "code",
        "colab": {
          "base_uri": "https://localhost:8080/",
          "height": 34
        },
        "outputId": "0e2999a3-be44-4c46-b275-93ef1c5c930a"
      },
      "source": [
        "x_trainre.shape"
      ],
      "execution_count": null,
      "outputs": [
        {
          "output_type": "execute_result",
          "data": {
            "text/plain": [
              "(50000, 3072)"
            ]
          },
          "metadata": {
            "tags": []
          },
          "execution_count": 7
        }
      ]
    },
    {
      "cell_type": "code",
      "metadata": {
        "id": "CxzTtMF0mSm6",
        "colab_type": "code",
        "colab": {}
      },
      "source": [
        "from tensorflow.keras.utils import to_categorical"
      ],
      "execution_count": null,
      "outputs": []
    },
    {
      "cell_type": "code",
      "metadata": {
        "id": "qe3855iHnQVP",
        "colab_type": "code",
        "colab": {
          "base_uri": "https://localhost:8080/",
          "height": 34
        },
        "outputId": "92bfe8db-cc68-44a0-e9c0-e85c12a0f9ab"
      },
      "source": [
        "y_train.shape"
      ],
      "execution_count": null,
      "outputs": [
        {
          "output_type": "execute_result",
          "data": {
            "text/plain": [
              "(50000, 1)"
            ]
          },
          "metadata": {
            "tags": []
          },
          "execution_count": 9
        }
      ]
    },
    {
      "cell_type": "code",
      "metadata": {
        "id": "0g93n-ssmcHl",
        "colab_type": "code",
        "colab": {}
      },
      "source": [
        "y_trainee = to_categorical(y_train, 10)\n"
      ],
      "execution_count": null,
      "outputs": []
    },
    {
      "cell_type": "code",
      "metadata": {
        "id": "NEdPVCWdnVel",
        "colab_type": "code",
        "colab": {
          "base_uri": "https://localhost:8080/",
          "height": 34
        },
        "outputId": "f2fdd519-9235-4d5c-b2ee-2a1bfae369b8"
      },
      "source": [
        "y_trainee.shape"
      ],
      "execution_count": null,
      "outputs": [
        {
          "output_type": "execute_result",
          "data": {
            "text/plain": [
              "(50000, 10)"
            ]
          },
          "metadata": {
            "tags": []
          },
          "execution_count": 12
        }
      ]
    },
    {
      "cell_type": "markdown",
      "metadata": {
        "id": "cn56QhTsxStV",
        "colab_type": "text"
      },
      "source": [
        "defining the module"
      ]
    },
    {
      "cell_type": "code",
      "metadata": {
        "id": "F6AYonN1w7sq",
        "colab_type": "code",
        "colab": {}
      },
      "source": [
        "from tensorflow.keras import Sequential    # import Sequential from tensorflow.keras\n",
        "from tensorflow.keras.layers import Dense, Dropout, Conv2D, Flatten, MaxPool2D  # import Dense from tensorflow.keras.layers\n",
        "from numpy.random import seed     # seed helps you to fix the randomness in the neural network.  \n",
        "import tensorflow\n",
        "from tensorflow.keras import regularizers"
      ],
      "execution_count": null,
      "outputs": []
    },
    {
      "cell_type": "code",
      "metadata": {
        "id": "-bzX-pF5zN68",
        "colab_type": "code",
        "colab": {
          "base_uri": "https://localhost:8080/",
          "height": 34
        },
        "outputId": "efa6a2a6-5115-4ccf-8e0c-3c337ace3d77"
      },
      "source": [
        "shapee = x_trainre.shape[1]\n",
        "shapee"
      ],
      "execution_count": null,
      "outputs": [
        {
          "output_type": "execute_result",
          "data": {
            "text/plain": [
              "3072"
            ]
          },
          "metadata": {
            "tags": []
          },
          "execution_count": 12
        }
      ]
    },
    {
      "cell_type": "markdown",
      "metadata": {
        "id": "ibwJKMwn_VRN",
        "colab_type": "text"
      },
      "source": [
        "**model 2**"
      ]
    },
    {
      "cell_type": "code",
      "metadata": {
        "id": "p995p8-z_Udg",
        "colab_type": "code",
        "colab": {}
      },
      "source": [
        "model = Sequential()\n",
        "model.add(Conv2D(32, kernel_size = 3, activation=\"relu\", input_shape = (32,32,3)))\n",
        "model.add(Flatten())\n",
        "model.add(Dense(10, 'softmax'))"
      ],
      "execution_count": null,
      "outputs": []
    },
    {
      "cell_type": "code",
      "metadata": {
        "id": "sGm_AFHbAR3q",
        "colab_type": "code",
        "colab": {}
      },
      "source": [
        ""
      ],
      "execution_count": null,
      "outputs": []
    },
    {
      "cell_type": "code",
      "metadata": {
        "id": "LC6bvzyuA-Hf",
        "colab_type": "code",
        "colab": {}
      },
      "source": [
        "from tensorflow.keras.callbacks import EarlyStopping\n",
        "from tensorflow.keras.callbacks import TensorBoard\n",
        "from datetime import datetime\n",
        "\n",
        "logdir = \"logs/\" + datetime.now().strftime(\"%Y%m%d-%H%M%S\")\n",
        "tensorboard_callback = TensorBoard(log_dir=logdir)\n",
        "\n",
        "es = EarlyStopping(monitor='val_loss', mode='min', verbose=1, patience=5)"
      ],
      "execution_count": null,
      "outputs": []
    },
    {
      "cell_type": "code",
      "metadata": {
        "colab_type": "code",
        "id": "CQaeILGRASKy",
        "colab": {}
      },
      "source": [
        "model = Sequential()\n",
        "model.add(Dense(2048,activation='relu', input_shape=(shapee, ),))\n",
        "model.add(Dropout(0.1)) ###using dropout\n",
        "model.add(Dense(1024,activation='relu', kernel_regularizer =\"l2\"))\n",
        "model.add(Dropout(0.05)) ###using dropout\n",
        "model.add(Dense(1024,activation='relu', kernel_regularizer =\"l2\"))\n",
        "\n",
        "model.add(Dense(512,activation='relu', kernel_regularizer =\"l2\"))\n",
        "model.add(Dropout(0.05)) ###using dropout\n",
        "model.add(Dense(10, activation= 'softmax'))\n",
        "#BEST============"
      ],
      "execution_count": null,
      "outputs": []
    },
    {
      "cell_type": "code",
      "metadata": {
        "colab_type": "code",
        "id": "IcR1HMiaASK3",
        "colab": {
          "base_uri": "https://localhost:8080/",
          "height": 443
        },
        "outputId": "eafaa2a7-42fb-44ce-e421-18776fcb5665"
      },
      "source": [
        "model.summary()"
      ],
      "execution_count": null,
      "outputs": [
        {
          "output_type": "stream",
          "text": [
            "Model: \"sequential_22\"\n",
            "_________________________________________________________________\n",
            "Layer (type)                 Output Shape              Param #   \n",
            "=================================================================\n",
            "dense_78 (Dense)             (None, 2048)              6293504   \n",
            "_________________________________________________________________\n",
            "dropout_41 (Dropout)         (None, 2048)              0         \n",
            "_________________________________________________________________\n",
            "dense_79 (Dense)             (None, 1024)              2098176   \n",
            "_________________________________________________________________\n",
            "dropout_42 (Dropout)         (None, 1024)              0         \n",
            "_________________________________________________________________\n",
            "dense_80 (Dense)             (None, 1024)              1049600   \n",
            "_________________________________________________________________\n",
            "dense_81 (Dense)             (None, 512)               524800    \n",
            "_________________________________________________________________\n",
            "dropout_43 (Dropout)         (None, 512)               0         \n",
            "_________________________________________________________________\n",
            "dense_82 (Dense)             (None, 10)                5130      \n",
            "=================================================================\n",
            "Total params: 9,971,210\n",
            "Trainable params: 9,971,210\n",
            "Non-trainable params: 0\n",
            "_________________________________________________________________\n"
          ],
          "name": "stdout"
        }
      ]
    },
    {
      "cell_type": "code",
      "metadata": {
        "colab_type": "code",
        "id": "YqJcoTZdASK7",
        "colab": {}
      },
      "source": [
        "model.compile(optimizer='adam',\n",
        "              loss='categorical_crossentropy',\n",
        "              metrics=['accuracy'])\n",
        "\n"
      ],
      "execution_count": null,
      "outputs": []
    },
    {
      "cell_type": "code",
      "metadata": {
        "colab_type": "code",
        "id": "jVUd1oe5ASK_",
        "colab": {
          "base_uri": "https://localhost:8080/",
          "height": 52
        },
        "outputId": "32dbbc28-8688-4ebd-8c62-d54ebc9ab756"
      },
      "source": [
        "#seed_value = 42\n",
        "#seed(seed_value)        # If you build the model with given parameters, set_random_seed will help you produce the same result on multiple execution\n",
        "\n",
        "\n",
        "# Recommended by Keras -------------------------------------------------------------------------------------\n",
        "# 1. Set `PYTHONHASHSEED` environment variable at a fixed value\n",
        "#import os\n",
        "#os.environ['PYTHONHASHSEED']=str(seed_value)\n",
        "\n",
        "# 2. Set `python` built-in pseudo-random generator at a fixed value\n",
        "#import random\n",
        "#random.seed(seed_value)\n",
        "\n",
        "# 3. Set `numpy` pseudo-random generator at a fixed value\n",
        "#import numpy as np\n",
        "#np.random.seed(seed_value)\n",
        "# Recommended by Keras -------------------------------------------------------------------------------------\n",
        "\n",
        "\n",
        "# 4. Set the `tensorflow` pseudo-random generator at a fixed value\n",
        "#tensorflow.random.set_seed(seed_value) \n",
        "history = model.fit(x_trainre, y_trainee, validation_split=0.2, epochs=200, batch_size=1024, verbose = 1, callbacks=[tensorboard_callback, es],)"
      ],
      "execution_count": null,
      "outputs": [
        {
          "output_type": "stream",
          "text": [
            "Epoch 1/200\n",
            "19/40 [=============>................] - ETA: 16s - loss: 2.1106 - accuracy: 0.3614"
          ],
          "name": "stdout"
        }
      ]
    },
    {
      "cell_type": "code",
      "metadata": {
        "id": "-Rk9ilJtAV12",
        "colab_type": "code",
        "colab": {}
      },
      "source": [
        ""
      ],
      "execution_count": null,
      "outputs": []
    },
    {
      "cell_type": "code",
      "metadata": {
        "colab_type": "code",
        "id": "7B6JcyjrAZxL",
        "colab": {
          "base_uri": "https://localhost:8080/",
          "height": 238
        },
        "outputId": "7c3788d8-f9a4-4361-e557-e24c7bfc899c"
      },
      "source": [
        "plt.plot(history.history['accuracy'])\n",
        "plt.plot(history.history['val_accuracy'])\n",
        "plt.title('Model Accuracy')\n",
        "plt.ylabel('accuracy')\n",
        "plt.xlabel('epoch')\n",
        "plt.legend(['Train', 'Validation'])\n",
        "plt.show()"
      ],
      "execution_count": null,
      "outputs": [
        {
          "output_type": "error",
          "ename": "NameError",
          "evalue": "ignored",
          "traceback": [
            "\u001b[0;31m---------------------------------------------------------------------------\u001b[0m",
            "\u001b[0;31mNameError\u001b[0m                                 Traceback (most recent call last)",
            "\u001b[0;32m<ipython-input-1-d41ad552d838>\u001b[0m in \u001b[0;36m<module>\u001b[0;34m()\u001b[0m\n\u001b[0;32m----> 1\u001b[0;31m \u001b[0mplt\u001b[0m\u001b[0;34m.\u001b[0m\u001b[0mplot\u001b[0m\u001b[0;34m(\u001b[0m\u001b[0mhistory\u001b[0m\u001b[0;34m.\u001b[0m\u001b[0mhistory\u001b[0m\u001b[0;34m[\u001b[0m\u001b[0;34m'accuracy'\u001b[0m\u001b[0;34m]\u001b[0m\u001b[0;34m)\u001b[0m\u001b[0;34m\u001b[0m\u001b[0;34m\u001b[0m\u001b[0m\n\u001b[0m\u001b[1;32m      2\u001b[0m \u001b[0mplt\u001b[0m\u001b[0;34m.\u001b[0m\u001b[0mplot\u001b[0m\u001b[0;34m(\u001b[0m\u001b[0mhistory\u001b[0m\u001b[0;34m.\u001b[0m\u001b[0mhistory\u001b[0m\u001b[0;34m[\u001b[0m\u001b[0;34m'val_accuracy'\u001b[0m\u001b[0;34m]\u001b[0m\u001b[0;34m)\u001b[0m\u001b[0;34m\u001b[0m\u001b[0;34m\u001b[0m\u001b[0m\n\u001b[1;32m      3\u001b[0m \u001b[0mplt\u001b[0m\u001b[0;34m.\u001b[0m\u001b[0mtitle\u001b[0m\u001b[0;34m(\u001b[0m\u001b[0;34m'Model Accuracy'\u001b[0m\u001b[0;34m)\u001b[0m\u001b[0;34m\u001b[0m\u001b[0;34m\u001b[0m\u001b[0m\n\u001b[1;32m      4\u001b[0m \u001b[0mplt\u001b[0m\u001b[0;34m.\u001b[0m\u001b[0mylabel\u001b[0m\u001b[0;34m(\u001b[0m\u001b[0;34m'accuracy'\u001b[0m\u001b[0;34m)\u001b[0m\u001b[0;34m\u001b[0m\u001b[0;34m\u001b[0m\u001b[0m\n\u001b[1;32m      5\u001b[0m \u001b[0mplt\u001b[0m\u001b[0;34m.\u001b[0m\u001b[0mxlabel\u001b[0m\u001b[0;34m(\u001b[0m\u001b[0;34m'epoch'\u001b[0m\u001b[0;34m)\u001b[0m\u001b[0;34m\u001b[0m\u001b[0;34m\u001b[0m\u001b[0m\n",
            "\u001b[0;31mNameError\u001b[0m: name 'plt' is not defined"
          ]
        }
      ]
    },
    {
      "cell_type": "code",
      "metadata": {
        "colab_type": "code",
        "id": "DcSq7R-_AZxY",
        "colab": {
          "base_uri": "https://localhost:8080/",
          "height": 294
        },
        "outputId": "dbb32f01-8fa4-469a-ba24-ee35870d0663"
      },
      "source": [
        "plt.plot(history.history['loss'])\n",
        "plt.plot(history.history['val_loss'])\n",
        "plt.title('Model Loss')\n",
        "plt.ylabel('loss')\n",
        "plt.xlabel('epoch')\n",
        "plt.legend(['Train', 'Validation'])\n",
        "plt.show()"
      ],
      "execution_count": null,
      "outputs": [
        {
          "output_type": "display_data",
          "data": {
            "image/png": "[encoded data removed]",
            "text/plain": [
              "<Figure size 432x288 with 1 Axes>"
            ]
          },
          "metadata": {
            "tags": [],
            "needs_background": "light"
          }
        }
      ]
    },
    {
      "cell_type": "code",
      "metadata": {
        "id": "rbjDBrgLRgJc",
        "colab_type": "code",
        "colab": {}
      },
      "source": [
        ""
      ],
      "execution_count": null,
      "outputs": []
    },
    {
      "cell_type": "code",
      "metadata": {
        "colab_type": "code",
        "id": "3e42ctXFRgYx",
        "colab": {}
      },
      "source": [
        "new_test_data = test_data"
      ],
      "execution_count": null,
      "outputs": []
    },
    {
      "cell_type": "code",
      "metadata": {
        "colab_type": "code",
        "id": "PEZbIhHtRgY3",
        "colab": {}
      },
      "source": [
        "target = model.predict(test_data)\n"
      ],
      "execution_count": null,
      "outputs": []
    },
    {
      "cell_type": "code",
      "metadata": {
        "colab_type": "code",
        "id": "gEDNWl0QRgY6",
        "colab": {}
      },
      "source": [
        "target = model.predict(test_data)\n",
        "\n",
        "targ = np.argmax(target, axis = 1).tolist()"
      ],
      "execution_count": null,
      "outputs": []
    },
    {
      "cell_type": "code",
      "metadata": {
        "colab_type": "code",
        "id": "FSDSI4ZGRgY_",
        "colab": {
          "base_uri": "https://localhost:8080/",
          "height": 16
        },
        "outputId": "8c0280d4-805b-4b10-d1e4-d873aab2dbf1"
      },
      "source": [
        "# To create Dataframe of predicted value with particular respective index\n",
        "res = pd.DataFrame(targ) #preditcions are nothing but the final predictions of your model on input features of your new unseen test data\n",
        "res.index = test_data.index # its important for comparison. Here \"test_new\" is your new test dataset\n",
        "res.columns = [\"prediction\"]\n",
        "\n",
        "# To download the csv file locally\n",
        "from google.colab import files\n",
        "res.to_csv('prediction_resultsee.csv')         \n",
        "files.download('prediction_resultsee.csv')\n",
        "\n"
      ],
      "execution_count": null,
      "outputs": [
        {
          "output_type": "display_data",
          "data": {
            "application/javascript": [
              "\n",
              "    async function download(id, filename, size) {\n",
              "      if (!google.colab.kernel.accessAllowed) {\n",
              "        return;\n",
              "      }\n",
              "      const div = document.createElement('div');\n",
              "      const label = document.createElement('label');\n",
              "      label.textContent = `Downloading \"${filename}\": `;\n",
              "      div.appendChild(label);\n",
              "      const progress = document.createElement('progress');\n",
              "      progress.max = size;\n",
              "      div.appendChild(progress);\n",
              "      document.body.appendChild(div);\n",
              "\n",
              "      const buffers = [];\n",
              "      let downloaded = 0;\n",
              "\n",
              "      const channel = await google.colab.kernel.comms.open(id);\n",
              "      // Send a message to notify the kernel that we're ready.\n",
              "      channel.send({})\n",
              "\n",
              "      for await (const message of channel.messages) {\n",
              "        // Send a message to notify the kernel that we're ready.\n",
              "        channel.send({})\n",
              "        if (message.buffers) {\n",
              "          for (const buffer of message.buffers) {\n",
              "            buffers.push(buffer);\n",
              "            downloaded += buffer.byteLength;\n",
              "            progress.value = downloaded;\n",
              "          }\n",
              "        }\n",
              "      }\n",
              "      const blob = new Blob(buffers, {type: 'application/binary'});\n",
              "      const a = document.createElement('a');\n",
              "      a.href = window.URL.createObjectURL(blob);\n",
              "      a.download = filename;\n",
              "      div.appendChild(a);\n",
              "      a.click();\n",
              "      div.remove();\n",
              "    }\n",
              "  "
            ],
            "text/plain": [
              "<IPython.core.display.Javascript object>"
            ]
          },
          "metadata": {
            "tags": []
          }
        },
        {
          "output_type": "display_data",
          "data": {
            "application/javascript": [
              "download(\"download_9e663383-4d59-4ad1-9564-967c1d2600cc\", \"prediction_resultsee.csv\", 12902)"
            ],
            "text/plain": [
              "<IPython.core.display.Javascript object>"
            ]
          },
          "metadata": {
            "tags": []
          }
        }
      ]
    }
  ]
}